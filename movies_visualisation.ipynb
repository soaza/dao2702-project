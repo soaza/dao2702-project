{
 "cells": [
  {
   "cell_type": "code",
   "execution_count": 10,
   "metadata": {},
   "outputs": [
    {
     "data": {
      "text/html": [
       "<div>\n",
       "<style scoped>\n",
       "    .dataframe tbody tr th:only-of-type {\n",
       "        vertical-align: middle;\n",
       "    }\n",
       "\n",
       "    .dataframe tbody tr th {\n",
       "        vertical-align: top;\n",
       "    }\n",
       "\n",
       "    .dataframe thead th {\n",
       "        text-align: right;\n",
       "    }\n",
       "</style>\n",
       "<table border=\"1\" class=\"dataframe\">\n",
       "  <thead>\n",
       "    <tr style=\"text-align: right;\">\n",
       "      <th></th>\n",
       "      <th>name</th>\n",
       "      <th>rating</th>\n",
       "      <th>genre</th>\n",
       "      <th>year</th>\n",
       "      <th>released</th>\n",
       "      <th>score</th>\n",
       "      <th>votes</th>\n",
       "      <th>director</th>\n",
       "      <th>writer</th>\n",
       "      <th>star</th>\n",
       "      <th>country</th>\n",
       "      <th>budget</th>\n",
       "      <th>gross</th>\n",
       "      <th>company</th>\n",
       "      <th>runtime</th>\n",
       "    </tr>\n",
       "  </thead>\n",
       "  <tbody>\n",
       "    <tr>\n",
       "      <th>0</th>\n",
       "      <td>The Shining</td>\n",
       "      <td>R</td>\n",
       "      <td>Drama</td>\n",
       "      <td>1980</td>\n",
       "      <td>June 13, 1980 (United States)</td>\n",
       "      <td>8.4</td>\n",
       "      <td>927000.0</td>\n",
       "      <td>Stanley Kubrick</td>\n",
       "      <td>Stephen King</td>\n",
       "      <td>Jack Nicholson</td>\n",
       "      <td>United Kingdom</td>\n",
       "      <td>19000000.0</td>\n",
       "      <td>46998772.0</td>\n",
       "      <td>Warner Bros.</td>\n",
       "      <td>146.0</td>\n",
       "    </tr>\n",
       "    <tr>\n",
       "      <th>1</th>\n",
       "      <td>The Blue Lagoon</td>\n",
       "      <td>R</td>\n",
       "      <td>Adventure</td>\n",
       "      <td>1980</td>\n",
       "      <td>July 2, 1980 (United States)</td>\n",
       "      <td>5.8</td>\n",
       "      <td>65000.0</td>\n",
       "      <td>Randal Kleiser</td>\n",
       "      <td>Henry De Vere Stacpoole</td>\n",
       "      <td>Brooke Shields</td>\n",
       "      <td>United States</td>\n",
       "      <td>4500000.0</td>\n",
       "      <td>58853106.0</td>\n",
       "      <td>Columbia Pictures</td>\n",
       "      <td>104.0</td>\n",
       "    </tr>\n",
       "    <tr>\n",
       "      <th>2</th>\n",
       "      <td>Star Wars: Episode V - The Empire Strikes Back</td>\n",
       "      <td>PG</td>\n",
       "      <td>Action</td>\n",
       "      <td>1980</td>\n",
       "      <td>June 20, 1980 (United States)</td>\n",
       "      <td>8.7</td>\n",
       "      <td>1200000.0</td>\n",
       "      <td>Irvin Kershner</td>\n",
       "      <td>Leigh Brackett</td>\n",
       "      <td>Mark Hamill</td>\n",
       "      <td>United States</td>\n",
       "      <td>18000000.0</td>\n",
       "      <td>538375067.0</td>\n",
       "      <td>Lucasfilm</td>\n",
       "      <td>124.0</td>\n",
       "    </tr>\n",
       "    <tr>\n",
       "      <th>3</th>\n",
       "      <td>Airplane!</td>\n",
       "      <td>PG</td>\n",
       "      <td>Comedy</td>\n",
       "      <td>1980</td>\n",
       "      <td>July 2, 1980 (United States)</td>\n",
       "      <td>7.7</td>\n",
       "      <td>221000.0</td>\n",
       "      <td>Jim Abrahams</td>\n",
       "      <td>Jim Abrahams</td>\n",
       "      <td>Robert Hays</td>\n",
       "      <td>United States</td>\n",
       "      <td>3500000.0</td>\n",
       "      <td>83453539.0</td>\n",
       "      <td>Paramount Pictures</td>\n",
       "      <td>88.0</td>\n",
       "    </tr>\n",
       "    <tr>\n",
       "      <th>4</th>\n",
       "      <td>Caddyshack</td>\n",
       "      <td>R</td>\n",
       "      <td>Comedy</td>\n",
       "      <td>1980</td>\n",
       "      <td>July 25, 1980 (United States)</td>\n",
       "      <td>7.3</td>\n",
       "      <td>108000.0</td>\n",
       "      <td>Harold Ramis</td>\n",
       "      <td>Brian Doyle-Murray</td>\n",
       "      <td>Chevy Chase</td>\n",
       "      <td>United States</td>\n",
       "      <td>6000000.0</td>\n",
       "      <td>39846344.0</td>\n",
       "      <td>Orion Pictures</td>\n",
       "      <td>98.0</td>\n",
       "    </tr>\n",
       "  </tbody>\n",
       "</table>\n",
       "</div>"
      ],
      "text/plain": [
       "                                             name rating      genre  year  \\\n",
       "0                                     The Shining      R      Drama  1980   \n",
       "1                                 The Blue Lagoon      R  Adventure  1980   \n",
       "2  Star Wars: Episode V - The Empire Strikes Back     PG     Action  1980   \n",
       "3                                       Airplane!     PG     Comedy  1980   \n",
       "4                                      Caddyshack      R     Comedy  1980   \n",
       "\n",
       "                        released  score      votes         director  \\\n",
       "0  June 13, 1980 (United States)    8.4   927000.0  Stanley Kubrick   \n",
       "1   July 2, 1980 (United States)    5.8    65000.0   Randal Kleiser   \n",
       "2  June 20, 1980 (United States)    8.7  1200000.0   Irvin Kershner   \n",
       "3   July 2, 1980 (United States)    7.7   221000.0     Jim Abrahams   \n",
       "4  July 25, 1980 (United States)    7.3   108000.0     Harold Ramis   \n",
       "\n",
       "                    writer            star         country      budget  \\\n",
       "0             Stephen King  Jack Nicholson  United Kingdom  19000000.0   \n",
       "1  Henry De Vere Stacpoole  Brooke Shields   United States   4500000.0   \n",
       "2           Leigh Brackett     Mark Hamill   United States  18000000.0   \n",
       "3             Jim Abrahams     Robert Hays   United States   3500000.0   \n",
       "4       Brian Doyle-Murray     Chevy Chase   United States   6000000.0   \n",
       "\n",
       "         gross             company  runtime  \n",
       "0   46998772.0        Warner Bros.    146.0  \n",
       "1   58853106.0   Columbia Pictures    104.0  \n",
       "2  538375067.0           Lucasfilm    124.0  \n",
       "3   83453539.0  Paramount Pictures     88.0  \n",
       "4   39846344.0      Orion Pictures     98.0  "
      ]
     },
     "execution_count": 10,
     "metadata": {},
     "output_type": "execute_result"
    }
   ],
   "source": [
    "import pandas as pd\n",
    "import matplotlib.pyplot as plt\n",
    "import seaborn as sb\n",
    "\n",
    "df = pd.read_csv(\"movies.csv\")\n",
    "df.head()"
   ]
  },
  {
   "cell_type": "markdown",
   "metadata": {},
   "source": [
    "## Cleaning of Dataset\n",
    "\n",
    "- Analysing movies from recent years (2000-2020)\n",
    "- Dropping rows with missing values (if any)\n",
    "- Dissecting the \"released\" column to obtain release country\n",
    "- Assigning bins to runtime to help with analysis"
   ]
  },
  {
   "cell_type": "code",
   "execution_count": 11,
   "metadata": {},
   "outputs": [
    {
     "data": {
      "text/html": [
       "<div>\n",
       "<style scoped>\n",
       "    .dataframe tbody tr th:only-of-type {\n",
       "        vertical-align: middle;\n",
       "    }\n",
       "\n",
       "    .dataframe tbody tr th {\n",
       "        vertical-align: top;\n",
       "    }\n",
       "\n",
       "    .dataframe thead th {\n",
       "        text-align: right;\n",
       "    }\n",
       "</style>\n",
       "<table border=\"1\" class=\"dataframe\">\n",
       "  <thead>\n",
       "    <tr style=\"text-align: right;\">\n",
       "      <th></th>\n",
       "      <th>name</th>\n",
       "      <th>rating</th>\n",
       "      <th>genre</th>\n",
       "      <th>year</th>\n",
       "      <th>released</th>\n",
       "      <th>score</th>\n",
       "      <th>votes</th>\n",
       "      <th>director</th>\n",
       "      <th>writer</th>\n",
       "      <th>star</th>\n",
       "      <th>country</th>\n",
       "      <th>budget</th>\n",
       "      <th>gross</th>\n",
       "      <th>company</th>\n",
       "      <th>runtime</th>\n",
       "      <th>releaseCountry</th>\n",
       "      <th>duration</th>\n",
       "    </tr>\n",
       "  </thead>\n",
       "  <tbody>\n",
       "    <tr>\n",
       "      <th>3643</th>\n",
       "      <td>Almost Famous</td>\n",
       "      <td>R</td>\n",
       "      <td>Adventure</td>\n",
       "      <td>2000</td>\n",
       "      <td>September 22, 2000 (United States)</td>\n",
       "      <td>7.9</td>\n",
       "      <td>260000.0</td>\n",
       "      <td>Cameron Crowe</td>\n",
       "      <td>Cameron Crowe</td>\n",
       "      <td>Billy Crudup</td>\n",
       "      <td>United States</td>\n",
       "      <td>60000000.0</td>\n",
       "      <td>47386287.0</td>\n",
       "      <td>Columbia Pictures</td>\n",
       "      <td>122.0</td>\n",
       "      <td>United States</td>\n",
       "      <td>120 - 149</td>\n",
       "    </tr>\n",
       "    <tr>\n",
       "      <th>3644</th>\n",
       "      <td>American Psycho</td>\n",
       "      <td>R</td>\n",
       "      <td>Comedy</td>\n",
       "      <td>2000</td>\n",
       "      <td>April 14, 2000 (United States)</td>\n",
       "      <td>7.6</td>\n",
       "      <td>514000.0</td>\n",
       "      <td>Mary Harron</td>\n",
       "      <td>Bret Easton Ellis</td>\n",
       "      <td>Christian Bale</td>\n",
       "      <td>United States</td>\n",
       "      <td>7000000.0</td>\n",
       "      <td>34266564.0</td>\n",
       "      <td>Am Psycho Productions</td>\n",
       "      <td>101.0</td>\n",
       "      <td>United States</td>\n",
       "      <td>90 - 119</td>\n",
       "    </tr>\n",
       "    <tr>\n",
       "      <th>3645</th>\n",
       "      <td>Gladiator</td>\n",
       "      <td>R</td>\n",
       "      <td>Action</td>\n",
       "      <td>2000</td>\n",
       "      <td>May 5, 2000 (United States)</td>\n",
       "      <td>8.5</td>\n",
       "      <td>1400000.0</td>\n",
       "      <td>Ridley Scott</td>\n",
       "      <td>David Franzoni</td>\n",
       "      <td>Russell Crowe</td>\n",
       "      <td>United States</td>\n",
       "      <td>103000000.0</td>\n",
       "      <td>465380802.0</td>\n",
       "      <td>Dreamworks Pictures</td>\n",
       "      <td>155.0</td>\n",
       "      <td>United States</td>\n",
       "      <td>150 - 179</td>\n",
       "    </tr>\n",
       "    <tr>\n",
       "      <th>3647</th>\n",
       "      <td>Requiem for a Dream</td>\n",
       "      <td>Unrated</td>\n",
       "      <td>Drama</td>\n",
       "      <td>2000</td>\n",
       "      <td>December 15, 2000 (United States)</td>\n",
       "      <td>8.3</td>\n",
       "      <td>786000.0</td>\n",
       "      <td>Darren Aronofsky</td>\n",
       "      <td>Hubert Selby Jr.</td>\n",
       "      <td>Ellen Burstyn</td>\n",
       "      <td>United States</td>\n",
       "      <td>4500000.0</td>\n",
       "      <td>7390108.0</td>\n",
       "      <td>Artisan Entertainment</td>\n",
       "      <td>102.0</td>\n",
       "      <td>United States</td>\n",
       "      <td>90 - 119</td>\n",
       "    </tr>\n",
       "    <tr>\n",
       "      <th>3648</th>\n",
       "      <td>Memento</td>\n",
       "      <td>R</td>\n",
       "      <td>Mystery</td>\n",
       "      <td>2000</td>\n",
       "      <td>May 25, 2001 (United States)</td>\n",
       "      <td>8.4</td>\n",
       "      <td>1200000.0</td>\n",
       "      <td>Christopher Nolan</td>\n",
       "      <td>Christopher Nolan</td>\n",
       "      <td>Guy Pearce</td>\n",
       "      <td>United States</td>\n",
       "      <td>9000000.0</td>\n",
       "      <td>40047078.0</td>\n",
       "      <td>Newmarket Capital Group</td>\n",
       "      <td>113.0</td>\n",
       "      <td>United States</td>\n",
       "      <td>90 - 119</td>\n",
       "    </tr>\n",
       "  </tbody>\n",
       "</table>\n",
       "</div>"
      ],
      "text/plain": [
       "                     name   rating      genre  year  \\\n",
       "3643        Almost Famous        R  Adventure  2000   \n",
       "3644      American Psycho        R     Comedy  2000   \n",
       "3645            Gladiator        R     Action  2000   \n",
       "3647  Requiem for a Dream  Unrated      Drama  2000   \n",
       "3648              Memento        R    Mystery  2000   \n",
       "\n",
       "                                released  score      votes           director  \\\n",
       "3643  September 22, 2000 (United States)    7.9   260000.0      Cameron Crowe   \n",
       "3644      April 14, 2000 (United States)    7.6   514000.0        Mary Harron   \n",
       "3645         May 5, 2000 (United States)    8.5  1400000.0       Ridley Scott   \n",
       "3647   December 15, 2000 (United States)    8.3   786000.0   Darren Aronofsky   \n",
       "3648        May 25, 2001 (United States)    8.4  1200000.0  Christopher Nolan   \n",
       "\n",
       "                 writer            star        country       budget  \\\n",
       "3643      Cameron Crowe    Billy Crudup  United States   60000000.0   \n",
       "3644  Bret Easton Ellis  Christian Bale  United States    7000000.0   \n",
       "3645     David Franzoni   Russell Crowe  United States  103000000.0   \n",
       "3647   Hubert Selby Jr.   Ellen Burstyn  United States    4500000.0   \n",
       "3648  Christopher Nolan      Guy Pearce  United States    9000000.0   \n",
       "\n",
       "            gross                  company  runtime releaseCountry   duration  \n",
       "3643   47386287.0        Columbia Pictures    122.0  United States  120 - 149  \n",
       "3644   34266564.0    Am Psycho Productions    101.0  United States   90 - 119  \n",
       "3645  465380802.0      Dreamworks Pictures    155.0  United States  150 - 179  \n",
       "3647    7390108.0    Artisan Entertainment    102.0  United States   90 - 119  \n",
       "3648   40047078.0  Newmarket Capital Group    113.0  United States   90 - 119  "
      ]
     },
     "execution_count": 11,
     "metadata": {},
     "output_type": "execute_result"
    }
   ],
   "source": [
    "df = df[df[\"year\"] >= 2000] # removing movies from pre-2000s\n",
    "df = df.dropna() # dropping rows with missing values\n",
    "# helper function to extract release country\n",
    "def obtainCountry(string):\n",
    "    idx1 = string.index(\"(\")\n",
    "    idx2 = string.index(\")\")\n",
    "    return string[idx1 + 1: idx2]\n",
    "\n",
    "df[\"releaseCountry\"] = df[\"released\"].apply(obtainCountry)\n",
    "\n",
    "# helper function to categorise runtime into bins\n",
    "def categoriseRuntime(runtime):\n",
    "    if runtime < 60.0:\n",
    "        return \"< 60\"\n",
    "    elif runtime < 90.0:\n",
    "        return \"60 - 89\"\n",
    "    elif runtime < 120.0:\n",
    "        return \"90 - 119\"\n",
    "    elif runtime < 150.0:\n",
    "        return \"120 - 149\"\n",
    "    elif runtime < 180.0:\n",
    "        return \"150 - 179\"\n",
    "    elif runtime < 210.0:\n",
    "        return \"180 - 209\"\n",
    "    else:\n",
    "        return \">= 210\"\n",
    "\n",
    "df[\"duration\"] = df[\"runtime\"].apply(categoriseRuntime)\n",
    "\n",
    "df.head()"
   ]
  },
  {
   "cell_type": "markdown",
   "metadata": {},
   "source": [
    "## Analysing the relationship between run-time and other factors to obtain optimal run-time\n",
    "\n",
    "- with IMDb score\n",
    "- with gross revenue"
   ]
  },
  {
   "cell_type": "code",
   "execution_count": 35,
   "metadata": {},
   "outputs": [
    {
     "name": "stderr",
     "output_type": "stream",
     "text": [
      "C:\\Users\\geral\\anaconda3\\lib\\site-packages\\numpy\\core\\_asarray.py:83: VisibleDeprecationWarning: Creating an ndarray from ragged nested sequences (which is a list-or-tuple of lists-or-tuples-or ndarrays with different lengths or shapes) is deprecated. If you meant to do this, you must specify 'dtype=object' when creating the ndarray\n",
      "  return array(a, dtype, copy=False, order=order)\n"
     ]
    },
    {
     "data": {
      "image/png": "[encoded data removed]",
      "text/plain": [
       "<Figure size 432x288 with 1 Axes>"
      ]
     },
     "metadata": {
      "needs_background": "light"
     },
     "output_type": "display_data"
    }
   ],
   "source": [
    "x = [\"60 - 89\", \"90 - 119\", \"120 - 149\", \"150 - 179\", \"180 - 209\", \">= 210\"]\n",
    "\n",
    "scores = []\n",
    "for i in range(len(x)):\n",
    "    filtered = df[df[\"duration\"] == x[i]]\n",
    "    scores.append(filtered[\"score\"])\n",
    "\n",
    "fig, ax = plt.subplots()\n",
    "ax.set_xticklabels(x)\n",
    "plt.boxplot(scores, showfliers=False)\n",
    "plt.title(\"IMDb scores of movies by duration\")\n",
    "plt.xlabel(\"Duration(mins)\")\n",
    "plt.ylabel(\"IMDb Score\")\n",
    "plt.show()"
   ]
  },
  {
   "cell_type": "code",
   "execution_count": 34,
   "metadata": {},
   "outputs": [
    {
     "name": "stderr",
     "output_type": "stream",
     "text": [
      "C:\\Users\\geral\\anaconda3\\lib\\site-packages\\numpy\\core\\_asarray.py:83: VisibleDeprecationWarning: Creating an ndarray from ragged nested sequences (which is a list-or-tuple of lists-or-tuples-or ndarrays with different lengths or shapes) is deprecated. If you meant to do this, you must specify 'dtype=object' when creating the ndarray\n",
      "  return array(a, dtype, copy=False, order=order)\n"
     ]
    },
    {
     "data": {
      "image/png": "[encoded data removed]",
      "text/plain": [
       "<Figure size 432x288 with 1 Axes>"
      ]
     },
     "metadata": {
      "needs_background": "light"
     },
     "output_type": "display_data"
    }
   ],
   "source": [
    "x = [\"60 - 89\", \"90 - 119\", \"120 - 149\", \"150 - 179\", \"180 - 209\", \">= 210\"]\n",
    "\n",
    "gross = []\n",
    "for i in range(len(x)):\n",
    "    filtered = df[df[\"duration\"] == x[i]]\n",
    "    gross.append(filtered[\"gross\"])\n",
    "\n",
    "fig, ax = plt.subplots()\n",
    "ax.set_xticklabels(x)\n",
    "plt.boxplot(scores, showfliers=False)\n",
    "plt.title(\"Gross revenue of movies by duration\")\n",
    "plt.xlabel(\"Duration(mins)\")\n",
    "plt.ylabel(\"Gross revenue(USD$)\")\n",
    "plt.show()"
   ]
  },
  {
   "cell_type": "markdown",
   "metadata": {},
   "source": [
    "## Determining the best main actor/actress to engage for the movie\n",
    "\n",
    "- by comparing number of appearances made in movies with IMDb scores >= 8.0\n",
    "- by comparing mean revenue of all movies starred in"
   ]
  },
  {
   "cell_type": "code",
   "execution_count": 93,
   "metadata": {},
   "outputs": [
    {
     "data": {
      "image/png": "[encoded data removed]",
      "text/plain": [
       "<Figure size 432x288 with 1 Axes>"
      ]
     },
     "metadata": {
      "needs_background": "light"
     },
     "output_type": "display_data"
    }
   ],
   "source": [
    "topscores = df[df[\"score\"] >= 8.0]\n",
    "top10stars_score = topscores[[\"star\", \"score\"]].groupby(\"star\").count().reset_index().nlargest(10, \"score\")\n",
    "top10stars_score = top10stars_score.rename(columns={\"score\": \"appearances\"})\n",
    "top10stars_score = top10stars_score.sort_values(\"appearances\")\n",
    "\n",
    "fig, ax = plt.subplots()\n",
    "ax.barh(top10stars_score[\"star\"], top10stars_score[\"appearances\"])\n",
    "plt.title(\"Top 10 stars generating high ratings for movies\")\n",
    "plt.xlabel(\"Number of appearances in highly rated movies\")\n",
    "plt.show()\n"
   ]
  },
  {
   "cell_type": "code",
   "execution_count": 91,
   "metadata": {},
   "outputs": [
    {
     "data": {
      "image/png": "[encoded data removed]",
      "text/plain": [
       "<Figure size 432x288 with 1 Axes>"
      ]
     },
     "metadata": {
      "needs_background": "light"
     },
     "output_type": "display_data"
    }
   ],
   "source": [
    "top10stars_gross = df[[\"star\", \"gross\"]].groupby(\"star\").mean().reset_index().nlargest(10, \"gross\")\n",
    "top10stars_gross = top10stars_gross.sort_values(\"gross\")\n",
    "\n",
    "fig, ax = plt.subplots()\n",
    "ax.barh(top10stars_gross[\"star\"], top10stars_gross[\"gross\"])\n",
    "plt.title(\"Top 10 revenue generating stars\")\n",
    "plt.xlabel(\"Mean revenue of movies starred in(USD$)\")\n",
    "plt.show()"
   ]
  },
  {
   "cell_type": "markdown",
   "metadata": {},
   "source": [
    "## Determining the best director to engage for the movie"
   ]
  },
  {
   "cell_type": "code",
   "execution_count": 95,
   "metadata": {},
   "outputs": [
    {
     "data": {
      "image/png": "[encoded data removed]",
      "text/plain": [
       "<Figure size 432x288 with 1 Axes>"
      ]
     },
     "metadata": {
      "needs_background": "light"
     },
     "output_type": "display_data"
    }
   ],
   "source": [
    "topscores = df[df[\"score\"] >= 8.0]\n",
    "top10directors_score = topscores[[\"director\", \"score\"]].groupby(\"director\").count().reset_index().nlargest(10, \"score\")\n",
    "top10directors_score = top10directors_score.rename(columns={\"score\": \"appearances\"})\n",
    "top10directors_score = top10directors_score.sort_values(\"appearances\")\n",
    "\n",
    "fig, ax = plt.subplots()\n",
    "ax.barh(top10directors_score[\"director\"], top10directors_score[\"appearances\"])\n",
    "plt.title(\"Top 10 directors generating high ratings for movies\")\n",
    "plt.xlabel(\"Number of highly rated movies directed\")\n",
    "plt.show()"
   ]
  },
  {
   "cell_type": "code",
   "execution_count": 97,
   "metadata": {},
   "outputs": [
    {
     "data": {
      "image/png": "[encoded data removed]",
      "text/plain": [
       "<Figure size 432x288 with 1 Axes>"
      ]
     },
     "metadata": {
      "needs_background": "light"
     },
     "output_type": "display_data"
    }
   ],
   "source": [
    "top10directors_gross = df[[\"director\", \"gross\"]].groupby(\"director\").mean().reset_index().nlargest(10, \"gross\")\n",
    "top10directors_gross = top10directors_gross.sort_values(\"gross\")\n",
    "\n",
    "fig, ax = plt.subplots()\n",
    "ax.barh(top10directors_gross[\"director\"], top10directors_gross[\"gross\"])\n",
    "plt.title(\"Top 10 revenue generating directors\")\n",
    "plt.xlabel(\"Mean revenue of movies directed(USD$)\")\n",
    "plt.show()"
   ]
  },
  {
   "cell_type": "markdown",
   "metadata": {},
   "source": [
    "## Determining which country to produce the movie in"
   ]
  },
  {
   "cell_type": "code",
   "execution_count": 99,
   "metadata": {},
   "outputs": [
    {
     "data": {
      "image/png": "[encoded data removed]",
      "text/plain": [
       "<Figure size 432x288 with 1 Axes>"
      ]
     },
     "metadata": {
      "needs_background": "light"
     },
     "output_type": "display_data"
    }
   ],
   "source": [
    "top10countries_gross = df[[\"releaseCountry\", \"gross\"]].groupby(\"releaseCountry\").mean().reset_index().nlargest(10, \"gross\")\n",
    "top10countries_gross = top10countries_gross.sort_values(\"gross\")\n",
    "\n",
    "fig, ax = plt.subplots()\n",
    "ax.barh(top10countries_gross[\"releaseCountry\"], top10countries_gross[\"gross\"])\n",
    "plt.title(\"Top 10 release countries with highest revenue\")\n",
    "plt.xlabel(\"Mean revenue of movies released(USD$)\")\n",
    "plt.show()"
   ]
  }
 ],
 "metadata": {
  "interpreter": {
   "hash": "0902df81bf2e37dfaa287a0da919a663c916efb87260f7b46fb30dc108bcbc89"
  },
  "kernelspec": {
   "display_name": "Python 3.8.3 ('base')",
   "language": "python",
   "name": "python3"
  },
  "language_info": {
   "codemirror_mode": {
    "name": "ipython",
    "version": 3
   },
   "file_extension": ".py",
   "mimetype": "text/x-python",
   "name": "python",
   "nbconvert_exporter": "python",
   "pygments_lexer": "ipython3",
   "version": "3.8.3"
  },
  "orig_nbformat": 4
 },
 "nbformat": 4,
 "nbformat_minor": 2
}
