{
 "cells": [
  {
   "cell_type": "code",
   "execution_count": null,
   "metadata": {},
   "outputs": [],
   "source": [
    "import pandas as pd\n",
    "import matplotlib.pyplot as plt\n",
    "\n",
    "df = pd.read_csv(\"movies.csv\")\n",
    "df.head()"
   ]
  },
  {
   "cell_type": "markdown",
   "metadata": {},
   "source": [
    "## Cleaning of Dataset\n",
    "\n",
    "- Analysing movies from recent years (2000-2020)\n",
    "- Dropping rows with missing values (if any)\n",
    "- Dissecting the \"released\" column to obtain release country\n",
    "- Assigning bins to runtime to help with analysis"
   ]
  },
  {
   "cell_type": "code",
   "execution_count": null,
   "metadata": {},
   "outputs": [],
   "source": [
    "df = df[df[\"year\"] >= 2000] # removing movies from pre-2000s\n",
    "df = df.dropna() # dropping rows with missing values\n",
    "# helper function to extract release country\n",
    "def obtainCountry(string):\n",
    "    idx1 = string.index(\"(\")\n",
    "    idx2 = string.index(\")\")\n",
    "    return string[idx1 + 1: idx2]\n",
    "\n",
    "df[\"releaseCountry\"] = df[\"released\"].apply(obtainCountry)\n",
    "\n",
    "# helper function to categorise runtime into bins\n",
    "def categoriseRuntime(runtime):\n",
    "    if runtime < 60.0:\n",
    "        return \"< 60\"\n",
    "    elif runtime < 90.0:\n",
    "        return \"60 - 89\"\n",
    "    elif runtime < 120.0:\n",
    "        return \"90 - 119\"\n",
    "    elif runtime < 150.0:\n",
    "        return \"120 - 149\"\n",
    "    elif runtime < 180.0:\n",
    "        return \"150 - 179\"\n",
    "    elif runtime < 210.0:\n",
    "        return \"180 - 209\"\n",
    "    else:\n",
    "        return \">= 210\"\n",
    "\n",
    "df[\"duration\"] = df[\"runtime\"].apply(categoriseRuntime)\n",
    "\n",
    "df.head()"
   ]
  },
  {
   "cell_type": "markdown",
   "metadata": {},
   "source": [
    "## Analysing the relationship between run-time and other factors to obtain optimal run-time\n",
    "\n",
    "- with IMDb score\n",
    "- with gross revenue"
   ]
  },
  {
   "cell_type": "code",
   "execution_count": null,
   "metadata": {},
   "outputs": [],
   "source": [
    "x = [\"60 - 89\", \"90 - 119\", \"120 - 149\", \"150 - 179\", \"180 - 209\", \">= 210\"]\n",
    "\n",
    "scores = []\n",
    "for i in range(len(x)):\n",
    "    filtered = df[df[\"duration\"] == x[i]]\n",
    "    scores.append(filtered[\"score\"])\n",
    "\n",
    "fig, ax = plt.subplots()\n",
    "ax.set_xticklabels(x)\n",
    "plt.boxplot(scores, showfliers=False)\n",
    "plt.title(\"IMDb scores of movies by duration\")\n",
    "plt.xlabel(\"Duration(mins)\")\n",
    "plt.ylabel(\"IMDb Score\")\n",
    "plt.show()"
   ]
  },
  {
   "cell_type": "code",
   "execution_count": null,
   "metadata": {},
   "outputs": [],
   "source": [
    "x = [\"60 - 89\", \"90 - 119\", \"120 - 149\", \"150 - 179\", \"180 - 209\", \">= 210\"]\n",
    "\n",
    "gross = []\n",
    "for i in range(len(x)):\n",
    "    filtered = df[df[\"duration\"] == x[i]]\n",
    "    gross.append(filtered[\"gross\"])\n",
    "\n",
    "fig, ax = plt.subplots()\n",
    "ax.set_xticklabels(x)\n",
    "plt.boxplot(scores, showfliers=False)\n",
    "plt.title(\"Gross revenue of movies by duration\")\n",
    "plt.xlabel(\"Duration(mins)\")\n",
    "plt.ylabel(\"Gross revenue(USD$)\")\n",
    "plt.show()"
   ]
  },
  {
   "cell_type": "markdown",
   "metadata": {},
   "source": [
    "## Determining the best main actor/actress to engage for the movie\n",
    "\n",
    "- by comparing number of appearances made in movies with IMDb scores >= 8.0\n",
    "- by comparing mean revenue of all movies starred in"
   ]
  },
  {
   "cell_type": "code",
   "execution_count": null,
   "metadata": {},
   "outputs": [],
   "source": [
    "topscores = df[df[\"score\"] >= 8.0]\n",
    "top10stars_score = topscores[[\"star\", \"score\"]].groupby(\"star\").count().reset_index().nlargest(10, \"score\")\n",
    "top10stars_score = top10stars_score.rename(columns={\"score\": \"appearances\"})\n",
    "top10stars_score = top10stars_score.sort_values(\"appearances\")\n",
    "\n",
    "fig, ax = plt.subplots()\n",
    "ax.barh(top10stars_score[\"star\"], top10stars_score[\"appearances\"])\n",
    "plt.title(\"Top 10 stars generating high ratings for movies\")\n",
    "plt.xlabel(\"Number of appearances in highly rated movies\")\n",
    "plt.show()\n"
   ]
  },
  {
   "cell_type": "code",
   "execution_count": null,
   "metadata": {},
   "outputs": [],
   "source": [
    "top10stars_gross = df[[\"star\", \"gross\"]].groupby(\"star\").mean().reset_index().nlargest(10, \"gross\")\n",
    "top10stars_gross = top10stars_gross.sort_values(\"gross\")\n",
    "\n",
    "fig, ax = plt.subplots()\n",
    "ax.barh(top10stars_gross[\"star\"], top10stars_gross[\"gross\"])\n",
    "plt.title(\"Top 10 revenue generating stars\")\n",
    "plt.xlabel(\"Mean revenue of movies starred in(USD$)\")\n",
    "plt.show()"
   ]
  },
  {
   "cell_type": "markdown",
   "metadata": {},
   "source": [
    "## Determining the best director to engage for the movie"
   ]
  },
  {
   "cell_type": "code",
   "execution_count": null,
   "metadata": {},
   "outputs": [],
   "source": [
    "topscores = df[df[\"score\"] >= 8.0]\n",
    "top10directors_score = topscores[[\"director\", \"score\"]].groupby(\"director\").count().reset_index().nlargest(10, \"score\")\n",
    "top10directors_score = top10directors_score.rename(columns={\"score\": \"appearances\"})\n",
    "top10directors_score = top10directors_score.sort_values(\"appearances\")\n",
    "\n",
    "fig, ax = plt.subplots()\n",
    "ax.barh(top10directors_score[\"director\"], top10directors_score[\"appearances\"])\n",
    "plt.title(\"Top 10 directors generating high ratings for movies\")\n",
    "plt.xlabel(\"Number of highly rated movies directed\")\n",
    "plt.show()"
   ]
  },
  {
   "cell_type": "code",
   "execution_count": null,
   "metadata": {},
   "outputs": [],
   "source": [
    "top10directors_gross = df[[\"director\", \"gross\"]].groupby(\"director\").mean().reset_index().nlargest(10, \"gross\")\n",
    "top10directors_gross = top10directors_gross.sort_values(\"gross\")\n",
    "\n",
    "fig, ax = plt.subplots()\n",
    "ax.barh(top10directors_gross[\"director\"], top10directors_gross[\"gross\"])\n",
    "plt.title(\"Top 10 revenue generating directors\")\n",
    "plt.xlabel(\"Mean revenue of movies directed(USD$)\")\n",
    "plt.show()"
   ]
  },
  {
   "cell_type": "markdown",
   "metadata": {},
   "source": [
    "## Determining which country to produce the movie in"
   ]
  },
  {
   "cell_type": "code",
   "execution_count": null,
   "metadata": {},
   "outputs": [],
   "source": [
    "top10countries_gross = df[[\"releaseCountry\", \"gross\"]].groupby(\"releaseCountry\").mean().reset_index().nlargest(10, \"gross\")\n",
    "top10countries_gross = top10countries_gross.sort_values(\"gross\")\n",
    "\n",
    "fig, ax = plt.subplots()\n",
    "ax.barh(top10countries_gross[\"releaseCountry\"], top10countries_gross[\"gross\"])\n",
    "plt.title(\"Top 10 release countries with highest revenue\")\n",
    "plt.xlabel(\"Mean revenue of movies released(USD$)\")\n",
    "plt.show()"
   ]
  }
 ],
 "metadata": {
  "interpreter": {
   "hash": "0902df81bf2e37dfaa287a0da919a663c916efb87260f7b46fb30dc108bcbc89"
  },
  "kernelspec": {
   "display_name": "Python 3.8.3 ('base')",
   "language": "python",
   "name": "python3"
  },
  "language_info": {
   "codemirror_mode": {
    "name": "ipython",
    "version": 3
   },
   "file_extension": ".py",
   "mimetype": "text/x-python",
   "name": "python",
   "nbconvert_exporter": "python",
   "pygments_lexer": "ipython3",
   "version": "3.9.7"
  },
  "orig_nbformat": 4
 },
 "nbformat": 4,
 "nbformat_minor": 2
}
