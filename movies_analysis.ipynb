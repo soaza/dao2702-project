{
 "cells": [
  {
   "cell_type": "markdown",
   "id": "9377f99e",
   "metadata": {},
   "source": [
    "### Importing libraries and data cleaning"
   ]
  },
  {
   "cell_type": "code",
   "execution_count": null,
   "id": "43d76665",
   "metadata": {},
   "outputs": [],
   "source": [
    "import pandas as pd\n",
    "import numpy as np\n",
    "import matplotlib.pyplot as plt\n",
    "\n",
    "# Display in float\n",
    "pd.set_option('display.float_format', lambda x: '%.3f' % x)\n",
    "\n",
    "CSV_PATH = 'movies.csv'\n",
    "\n",
    "df = pd.read_csv(CSV_PATH)\n",
    "\n",
    "\n",
    "# We filter movies after year 2000\n",
    "cleaned_dataset = df[df['year'] >= 2000]\n",
    "# We drop NaN rows\n",
    "cleaned_dataset = cleaned_dataset.dropna()\n",
    "\n",
    "# 1) Ratings vs Gross\n",
    "\n",
    "\n",
    "\n"
   ]
  },
  {
   "cell_type": "markdown",
   "id": "a508f38c",
   "metadata": {},
   "source": [
    "### 1. Ratings vs Gross\n"
   ]
  },
  {
   "cell_type": "code",
   "execution_count": null,
   "id": "05503790",
   "metadata": {},
   "outputs": [],
   "source": [
    "score_gross = cleaned_dataset[['score','gross']]\n",
    "plt.scatter(score_gross['score'],      \n",
    "            score_gross['gross'],      \n",
    "            c='r', alpha=0.3)      \n",
    "\n",
    "m, b = np.polyfit(score_gross['score'],score_gross['gross'], 1)\n",
    "plt.plot(score_gross['score'], m * score_gross['score'] + b)\n"
   ]
  },
  {
   "cell_type": "markdown",
   "id": "ec9d7ecd",
   "metadata": {},
   "source": [
    "### 2. Genre that the audience enjoys (Genre vs ratings/profitability)"
   ]
  },
  {
   "cell_type": "code",
   "execution_count": null,
   "id": "c5bbbe59",
   "metadata": {},
   "outputs": [],
   "source": [
    "print(cleaned_dataset.groupby(cleaned_dataset['genre'])['gross'].mean())\n"
   ]
  }
 ],
 "metadata": {
  "kernelspec": {
   "display_name": "Python 3 (ipykernel)",
   "language": "python",
   "name": "python3"
  },
  "language_info": {
   "codemirror_mode": {
    "name": "ipython",
    "version": 3
   },
   "file_extension": ".py",
   "mimetype": "text/x-python",
   "name": "python",
   "nbconvert_exporter": "python",
   "pygments_lexer": "ipython3",
   "version": "3.9.7"
  }
 },
 "nbformat": 4,
 "nbformat_minor": 5
}
